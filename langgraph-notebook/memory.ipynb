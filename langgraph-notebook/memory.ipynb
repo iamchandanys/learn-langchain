{
 "cells": [
  {
   "cell_type": "code",
   "execution_count": 1,
   "id": "f450e03a",
   "metadata": {},
   "outputs": [
    {
     "data": {
      "text/plain": [
       "True"
      ]
     },
     "execution_count": 1,
     "metadata": {},
     "output_type": "execute_result"
    }
   ],
   "source": [
    "import os\n",
    "\n",
    "from typing import Annotated\n",
    "from typing_extensions import TypedDict\n",
    "from dotenv import load_dotenv\n",
    "\n",
    "from langgraph.graph import StateGraph, START, END\n",
    "from langgraph.graph.message import add_messages\n",
    "from langchain.chat_models import init_chat_model\n",
    "from langchain.embeddings import init_embeddings\n",
    "from langgraph.store.memory import InMemoryStore\n",
    "from langgraph.checkpoint.memory import InMemorySaver\n",
    "from langchain_core.runnables import RunnableConfig\n",
    "from langgraph.store.base import BaseStore\n",
    "\n",
    "load_dotenv()"
   ]
  },
  {
   "cell_type": "code",
   "execution_count": 2,
   "id": "b2c8288b",
   "metadata": {},
   "outputs": [],
   "source": [
    "# Constants\n",
    "user_Id = \"1000\"\n",
    "thread_Id = \"203\"\n",
    "memory_namespace = (user_Id, \"memories\")"
   ]
  },
  {
   "cell_type": "markdown",
   "id": "727946fd",
   "metadata": {},
   "source": [
    "### Adding semantic search to memory"
   ]
  },
  {
   "cell_type": "code",
   "execution_count": 3,
   "id": "8b77016f",
   "metadata": {},
   "outputs": [
    {
     "name": "stdout",
     "output_type": "stream",
     "text": [
      "Memory: User loves pizza, Score: 0.7170508266728534\n"
     ]
    }
   ],
   "source": [
    "\n",
    "# Create store with semantic search enabled\n",
    "embeddings = init_embeddings(\n",
    "    \"azure_openai:text-embedding-ada-002\", \n",
    "    openai_api_key=os.getenv(\"AZURE_TEXT_EMBEDDING_ADA_002_KEY\")\n",
    ")\n",
    "\n",
    "store = InMemoryStore(\n",
    "    index={\n",
    "        \"embed\": embeddings,\n",
    "        \"dims\": 1536,\n",
    "    }\n",
    ")\n",
    "\n",
    "# To update the store with new memories\n",
    "store.put(memory_namespace, \"1\", {\"text\": \"User name is Chandan\"})\n",
    "store.put(memory_namespace, \"2\", {\"text\": \"User loves pizza\"})\n",
    "\n",
    "# To search for memories. This will use semantic search\n",
    "# and return the most relevant memory based on the query.\n",
    "memories = store.search(\n",
    "    memory_namespace, query=\"I have leak in my pipe\", limit=1\n",
    ")\n",
    "\n",
    "for memory in memories:\n",
    "    print(f\"Memory: {memory.value['text']}, Score: {memory.score}\")\n",
    "    \n",
    "# Note: Require Numpy for vector \n",
    "# https://langchain-ai.github.io/langgraph/how-tos/memory/semantic-search/"
   ]
  },
  {
   "cell_type": "markdown",
   "id": "c11b78cb",
   "metadata": {},
   "source": [
    "### Consuming the Memory"
   ]
  },
  {
   "cell_type": "code",
   "execution_count": null,
   "id": "47d5b89e",
   "metadata": {},
   "outputs": [],
   "source": [
    "\n",
    "llm = init_chat_model(\n",
    "    \"azure_openai:gpt-4o-mini\"\n",
    ")\n",
    "\n",
    "class State(TypedDict):\n",
    "    messages: Annotated[list, add_messages]\n",
    "    \n",
    "def chatbot(state: State, config: RunnableConfig, *, store: BaseStore):    \n",
    "    # Search based on the most recent message\n",
    "    memories = store.search(\n",
    "        memory_namespace,\n",
    "        query=state[\"messages\"][-1].content,\n",
    "        limit=3\n",
    "    )\n",
    "    \n",
    "    # Join the memory texts into a single string\n",
    "    info = \"\\n\".join([d.value[\"text\"] for d in memories])\n",
    "    \n",
    "    # Build the system message with user info\n",
    "    system_msg = f\"You are a helpful assistant talking to the user. User info: {info}\"\n",
    "    \n",
    "    # Invoke the LLM with the system message and user messages\n",
    "    response = llm.invoke(\n",
    "        [{\"role\": \"system\", \"content\": system_msg}] + state[\"messages\"]\n",
    "    )\n",
    "    \n",
    "    return {\"messages\": response}"
   ]
  },
  {
   "cell_type": "code",
   "execution_count": null,
   "id": "d350f443",
   "metadata": {},
   "outputs": [],
   "source": [
    "graph_builder = StateGraph(State)\n",
    "graph_builder.add_node(\"llmchatbot\", chatbot)\n",
    "graph_builder.add_edge(START, \"llmchatbot\")\n",
    "graph_builder.add_edge(\"llmchatbot\", END) \n",
    "\n",
    "checkpointer = InMemorySaver()\n",
    "\n",
    "graph = graph_builder.compile(checkpointer=checkpointer, store=store)\n",
    "\n",
    "while True:\n",
    "    user_input = input(\"You: \")\n",
    "    \n",
    "    if user_input.lower() in [\"exit\", \"quit\"]:\n",
    "        break\n",
    "    \n",
    "    # Invoke the graph with the user message\n",
    "    response = graph.invoke(\n",
    "        {\n",
    "            \"messages\": [{\"role\": \"user\", \"content\": user_input}],\n",
    "        },\n",
    "        {\n",
    "            \"configurable\": {\n",
    "                \"thread_id\": thread_Id,\n",
    "                \"user_id\": user_Id\n",
    "            }\n",
    "        }\n",
    "    )\n",
    "    \n",
    "    for msg in response[\"messages\"]:\n",
    "        print(f\"Bot: {msg.content}\")"
   ]
  }
 ],
 "metadata": {
  "kernelspec": {
   "display_name": "venv",
   "language": "python",
   "name": "python3"
  },
  "language_info": {
   "codemirror_mode": {
    "name": "ipython",
    "version": 3
   },
   "file_extension": ".py",
   "mimetype": "text/x-python",
   "name": "python",
   "nbconvert_exporter": "python",
   "pygments_lexer": "ipython3",
   "version": "3.12.7"
  }
 },
 "nbformat": 4,
 "nbformat_minor": 5
}
