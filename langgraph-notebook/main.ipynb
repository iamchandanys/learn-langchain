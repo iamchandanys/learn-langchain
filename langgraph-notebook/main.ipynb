{
 "cells": [
  {
   "cell_type": "markdown",
   "id": "6427734f",
   "metadata": {},
   "source": [
    "## Build a basic chatbot with Langgraph (GRAPH API) 🤖\n",
    "\n",
    "### Components of Langgraph\n",
    "1. Edges\n",
    "2. Nodes\n",
    "3. States"
   ]
  },
  {
   "cell_type": "code",
   "execution_count": null,
   "id": "6027e4b2",
   "metadata": {},
   "outputs": [],
   "source": [
    "from typing import Annotated\n",
    "from typing_extensions import TypedDict\n",
    "from langgraph.graph import StateGraph, START, END\n",
    "from langgraph.graph.message import add_messages\n",
    "from langchain.chat_models import init_chat_model\n",
    "import os\n",
    "from dotenv import load_dotenv\n",
    "\n",
    "load_dotenv()"
   ]
  },
  {
   "cell_type": "code",
   "execution_count": null,
   "id": "8e9c739e",
   "metadata": {},
   "outputs": [],
   "source": [
    "class State(TypedDict):\n",
    "    # Messages have the type \"list\". The `add_messages` function\n",
    "    # in the annotation defines how this state key should be updated\n",
    "    # (in this case, it appends messages to the list, rather than overwriting them)\n",
    "    messages: Annotated[list, add_messages]"
   ]
  },
  {
   "cell_type": "code",
   "execution_count": null,
   "id": "6a8367ba",
   "metadata": {},
   "outputs": [],
   "source": [
    "llm = init_chat_model(\n",
    "    \"azure_openai:gpt-4o-mini\",\n",
    "    azure_deployment=os.environ[\"AZURE_OPENAI_DEPLOYMENT_NAME\"],\n",
    ")"
   ]
  },
  {
   "cell_type": "code",
   "execution_count": null,
   "id": "3c3af72a",
   "metadata": {},
   "outputs": [],
   "source": [
    "# Node definition for the chatbot\n",
    "# This node will use the LLM to generate a response based on the messages in the state\n",
    "def chatbot(state: State):\n",
    "    return {\"messages\": [llm.invoke(state[\"messages\"])]}\n",
    "\n",
    "# Create a StateGraph instance\n",
    "# This graph will manage the state and the flow of the chatbot\n",
    "graph_builder = StateGraph(State)\n",
    "\n",
    "# Adding node to the graph\n",
    "graph_builder.add_node(\"llmchatbot\", chatbot)\n",
    "\n",
    "# Adding an START edge\n",
    "graph_builder.add_edge(START, \"llmchatbot\")\n",
    "\n",
    "# Adding an END edge\n",
    "graph_builder.add_edge(\"llmchatbot\", END) \n",
    "\n",
    "# Compile the graph to create a runnable chatbot\n",
    "# The compiled graph can be invoked, streamed, and used in various ways\n",
    "graph = graph_builder.compile()"
   ]
  },
  {
   "cell_type": "code",
   "execution_count": null,
   "id": "6e24a3d0",
   "metadata": {},
   "outputs": [],
   "source": [
    "# Visualize the graph\n",
    "from IPython.display import Image, display\n",
    "\n",
    "try:\n",
    "    display(Image(graph.get_graph().draw_mermaid_png()))\n",
    "except Exception as e:\n",
    "    print(f\"Error displaying graph: {e}\")"
   ]
  },
  {
   "cell_type": "code",
   "execution_count": null,
   "id": "22708c07",
   "metadata": {},
   "outputs": [],
   "source": [
    "# Invoke the graph with a message\n",
    "\n",
    "response = graph.invoke(\n",
    "    {\n",
    "        \"messages\": \"hi, how are you doing today?\"\n",
    "    }\n",
    ")\n",
    "\n",
    "response[\"messages\"][-1].content  # Get the last message content from the response"
   ]
  },
  {
   "cell_type": "code",
   "execution_count": null,
   "id": "30db3b93",
   "metadata": {},
   "outputs": [],
   "source": [
    "# Stream the graph to get real-time responses\n",
    "\n",
    "for event in graph.stream(\n",
    "    {\n",
    "        \"messages\": \"hi, how are you doing today?\"\n",
    "    }\n",
    "):\n",
    "    for value in event.values():\n",
    "        print(value[\"messages\"][-1].content)  # Print the last message content from each event"
   ]
  },
  {
   "cell_type": "markdown",
   "id": "a068e0f0",
   "metadata": {},
   "source": [
    "### Chatbot with Tool calling"
   ]
  },
  {
   "cell_type": "code",
   "execution_count": null,
   "id": "6c7db889",
   "metadata": {},
   "outputs": [],
   "source": [
    "from langchain_tavily import TavilySearch\n",
    "\n",
    "tavily_search_tool = TavilySearch(max_results=1)\n",
    "tavily_search_tool.invoke(\"What is the capital of France?\")\n",
    "\n",
    "def multiply(a: int, b: int) -> int:\n",
    "    \"\"\"\n",
    "    Multiplies two integers and returns the result.\n",
    "    \n",
    "    Args:\n",
    "        a (int): The first integer.\n",
    "        b (int): The second integer.\n",
    "        \n",
    "    Returns:\n",
    "        int: The product of the two integers.\n",
    "    \"\"\"\n",
    "    return a * b\n",
    "    \n",
    "tools = [tavily_search_tool, multiply]"
   ]
  },
  {
   "cell_type": "code",
   "execution_count": null,
   "id": "e0526fab",
   "metadata": {},
   "outputs": [],
   "source": [
    "from langgraph.graph import StateGraph, START, END\n",
    "from langgraph.prebuilt import ToolNode, tools_condition\n",
    "\n",
    "llm_with_tool = llm.bind_tools(tools) # Bind the tools to the LLM\n",
    "\n",
    "def chatbot_with_tool(state: State):\n",
    "    return {\"messages\": [llm_with_tool.invoke(state[\"messages\"])]}\n",
    "\n",
    "graph_builder = StateGraph(State)\n",
    "graph_builder.add_node(\"chatbot_with_tool\", chatbot_with_tool)\n",
    "graph_builder.add_node(\"tools\", ToolNode(tools))\n",
    "\n",
    "graph_builder.add_edge(START, \"chatbot_with_tool\")\n",
    "graph_builder.add_conditional_edges(\"chatbot_with_tool\", tools_condition) # If the LLM response contains a tool call, go to the tools node. Otherwise, go to END\n",
    "graph_builder.add_edge(\"tools\", END)\n",
    "\n",
    "graph = graph_builder.compile()\n",
    "\n",
    "response = graph.invoke(\n",
    "    {\n",
    "        \"messages\": \"Can you get me the latest news about AI? and multiply 3 and 4?\"\n",
    "    }\n",
    ")\n",
    "\n",
    "for msg in response[\"messages\"]:\n",
    "    msg.pretty_print()\n"
   ]
  },
  {
   "cell_type": "code",
   "execution_count": null,
   "id": "98ae8827",
   "metadata": {},
   "outputs": [],
   "source": [
    "# Visualize the graph\n",
    "from IPython.display import Image, display\n",
    "\n",
    "try:\n",
    "    display(Image(graph.get_graph().draw_mermaid_png()))\n",
    "except Exception as e:\n",
    "    print(f\"Error displaying graph: {e}\")"
   ]
  },
  {
   "cell_type": "markdown",
   "id": "d99d6902",
   "metadata": {},
   "source": [
    "### ReAct Agent Architecture"
   ]
  },
  {
   "cell_type": "code",
   "execution_count": null,
   "id": "1f473a68",
   "metadata": {},
   "outputs": [],
   "source": [
    "from langgraph.graph import StateGraph, START, END\n",
    "from langgraph.prebuilt import ToolNode, tools_condition\n",
    "\n",
    "llm_with_tool = llm.bind_tools(tools) # Bind the tools to the LLM\n",
    "\n",
    "def chatbot_with_tool(state: State):\n",
    "    return {\"messages\": [llm_with_tool.invoke(state[\"messages\"])]}\n",
    "\n",
    "graph_builder = StateGraph(State)\n",
    "graph_builder.add_node(\"chatbot_with_tool\", chatbot_with_tool)\n",
    "graph_builder.add_node(\"tools\", ToolNode(tools))\n",
    "\n",
    "graph_builder.add_edge(START, \"chatbot_with_tool\")\n",
    "graph_builder.add_conditional_edges(\"chatbot_with_tool\", tools_condition) # If the LLM response contains a tool call, go to the tools node. Otherwise, go to END\n",
    "graph_builder.add_edge(\"tools\", \"chatbot_with_tool\")  # Loop back to chatbot_with_tool for further processing\n",
    "\n",
    "graph = graph_builder.compile()\n",
    "\n",
    "response = graph.invoke(\n",
    "    {\n",
    "        \"messages\": \"Can you get me the latest cricket score between India and England? and multiply 3 and 4?\"\n",
    "    }\n",
    ")\n",
    "\n",
    "for msg in response[\"messages\"]:\n",
    "    msg.pretty_print()"
   ]
  },
  {
   "cell_type": "code",
   "execution_count": null,
   "id": "b9f46e8d",
   "metadata": {},
   "outputs": [],
   "source": [
    "# Visualize the graph\n",
    "from IPython.display import Image, display\n",
    "\n",
    "try:\n",
    "    display(Image(graph.get_graph().draw_mermaid_png()))\n",
    "except Exception as e:\n",
    "    print(f\"Error displaying graph: {e}\")"
   ]
  },
  {
   "attachments": {
    "image.png": {
     "image/png": "[encoded data removed]"
    }
   },
   "cell_type": "markdown",
   "id": "b459fb59",
   "metadata": {},
   "source": [
    "### Adding Memory in Agentic Graph\n",
    "\n",
    "![image.png](attachment:image.png)"
   ]
  },
  {
   "cell_type": "code",
   "execution_count": null,
   "id": "ad912f35",
   "metadata": {},
   "outputs": [],
   "source": [
    "from langgraph.graph import StateGraph, START, END\n",
    "from langgraph.prebuilt import ToolNode, tools_condition\n",
    "from langgraph.checkpoint.memory import MemorySaver\n",
    "\n",
    "memory_saver = MemorySaver()\n",
    "\n",
    "llm_with_tool = llm.bind_tools(tools) # Bind the tools to the LLM\n",
    "\n",
    "def chatbot_with_tool(state: State):\n",
    "    return {\"messages\": [llm_with_tool.invoke(state[\"messages\"])]}\n",
    "\n",
    "graph_builder = StateGraph(State)\n",
    "graph_builder.add_node(\"chatbot_with_tool\", chatbot_with_tool)\n",
    "graph_builder.add_node(\"tools\", ToolNode(tools))\n",
    "\n",
    "graph_builder.add_edge(START, \"chatbot_with_tool\")\n",
    "graph_builder.add_conditional_edges(\"chatbot_with_tool\", tools_condition) # If the LLM response contains a tool call, go to the tools node. Otherwise, go to END\n",
    "graph_builder.add_edge(\"tools\", \"chatbot_with_tool\")  # Loop back to chatbot_with_tool for further processing\n",
    "\n",
    "graph = graph_builder.compile(checkpointer=memory_saver) # Compile the graph with memory saver\n",
    "\n",
    "response = graph.invoke(\n",
    "    {\n",
    "        \"messages\": \"Hi, my name is Chandan.\"\n",
    "    },\n",
    "    {\n",
    "        \"configurable\": {\n",
    "            \"thread_id\": \"1\"\n",
    "        }\n",
    "    }\n",
    ")\n",
    "\n",
    "for msg in response[\"messages\"]:\n",
    "    msg.pretty_print()"
   ]
  },
  {
   "cell_type": "markdown",
   "id": "92a217f9",
   "metadata": {},
   "source": [
    "### Streaming\n",
    "\n",
    "Methods: .stream() and astream()\n",
    "\n",
    "- These methods are sync and async methods for streaming back results.\n",
    "\n",
    "Additional parameters in streaming modes for graph state:\n",
    "- **Values**: The current state or output at each step of the graph as it streams. Think of it as a snapshot of the latest results.\n",
    "- **Updates**: The changes or differences in the state since the last step. This helps you track what has changed during streaming, rather than seeing the whole state every time."
   ]
  },
  {
   "cell_type": "code",
   "execution_count": null,
   "id": "9b3d91dd",
   "metadata": {},
   "outputs": [],
   "source": [
    "for chunk in graph.stream(\n",
    "        {\n",
    "            \"messages\": \"Who is Virat Kohli?\"\n",
    "        },\n",
    "        {\n",
    "            \"configurable\": {\n",
    "                \"thread_id\": \"2\"\n",
    "            }\n",
    "        },\n",
    "        stream_mode=\"updates\" # updates\n",
    "    ):\n",
    "    print(chunk)"
   ]
  },
  {
   "cell_type": "code",
   "execution_count": null,
   "id": "8c1d57df",
   "metadata": {},
   "outputs": [],
   "source": [
    "for chunk in graph.stream(\n",
    "        {\n",
    "            \"messages\": \"Who is Virat Kohli?\"\n",
    "        },\n",
    "        {\n",
    "            \"configurable\": {\n",
    "                \"thread_id\": \"2\"\n",
    "            }\n",
    "        },\n",
    "        stream_mode=\"values\" # values\n",
    "    ):\n",
    "    print(chunk)"
   ]
  },
  {
   "cell_type": "code",
   "execution_count": null,
   "id": "2da4148a",
   "metadata": {},
   "outputs": [],
   "source": [
    "# Async streaming of events\n",
    "\n",
    "async for event in graph.astream_events(\n",
    "        {\n",
    "            \"messages\": \"Who is Virat Kohli?\"\n",
    "        },\n",
    "        {\n",
    "            \"configurable\": {\n",
    "                \"thread_id\": \"2\"\n",
    "            }\n",
    "        },\n",
    "        version=\"v2\"\n",
    "    ):\n",
    "    print(event)"
   ]
  },
  {
   "cell_type": "markdown",
   "id": "029fd044",
   "metadata": {},
   "source": [
    "### Human in the Loop"
   ]
  },
  {
   "cell_type": "code",
   "execution_count": null,
   "id": "1dd44a9a",
   "metadata": {},
   "outputs": [],
   "source": [
    "\n",
    "import os\n",
    "from langgraph.types import interrupt, Command\n",
    "from langgraph.checkpoint.memory import InMemorySaver\n",
    "from langgraph.prebuilt import create_react_agent\n",
    "from dotenv import load_dotenv\n",
    "\n",
    "load_dotenv()\n",
    "\n",
    "# 1. Define a tool that requests human approval via interrupt()\n",
    "def book_hotel(hotel_name: str):\n",
    "    \"\"\"Book a hotel, but ask a human to approve or edit first.\"\"\"\n",
    "    \n",
    "    response = interrupt(\n",
    "        f\"Attempting to book hotel: {{'hotel_name': {hotel_name}}}. \"\n",
    "        \"Please approve or suggest edits.\"\n",
    "    )\n",
    "    \n",
    "    print(f\"Human response: {response}\")\n",
    "    \n",
    "    # Handle the three possible human responses\n",
    "    if response[\"type\"] == \"accept\":\n",
    "        # Human approved; proceed unchanged\n",
    "        pass\n",
    "    elif response[\"type\"] == \"edit\":\n",
    "        # Human edited the arguments\n",
    "        hotel_name = response[\"args\"][\"hotel_name\"]\n",
    "    else:\n",
    "        raise ValueError(f\"Unsupported response type: {response['type']}\")\n",
    "    \n",
    "    return f\"Successfully booked a stay at {hotel_name}.\"\n",
    "\n",
    "# 2. Set up state persistence so the agent can pause and resume\n",
    "checkpointer = InMemorySaver()\n",
    "\n",
    "# 3. Create an agent that uses our HIL-enabled tool\n",
    "agent = create_react_agent(\n",
    "    model=\"azure_openai:gpt-4o-mini\",\n",
    "    tools=[book_hotel],\n",
    "    checkpointer=checkpointer,\n",
    ")\n",
    "\n",
    "config = {\"configurable\": {\"thread_id\": \"1\"}}\n",
    "\n",
    "# 4. Start streaming until we see the interrupt tool call\n",
    "stream = agent.stream(\n",
    "    {\"messages\": [{\"role\": \"user\", \"content\": \"Book a stay at McKittrick hotel\"}]},\n",
    "    config\n",
    ")\n",
    "\n",
    "# 5. Read the stream until we hit the interrupt\n",
    "for chunk in stream:\n",
    "    print(chunk)\n",
    "    # when we hit the interrupt, stop reading further\n",
    "    if chunk.get(\"tool\") == \"interrupt\":\n",
    "        break\n",
    "\n",
    "# 6. Now pause and await the human decision:\n",
    "resp = input(\"❓ Approve booking? (type 'accept' or 'edit'): \").strip().lower()\n",
    "\n",
    "if resp == \"accept\":\n",
    "    resume = Command(resume={\"type\": \"accept\"})\n",
    "else:\n",
    "    new_name = input(\"✏️  New hotel_name: \").strip()\n",
    "    resume = Command(resume={\"type\": \"edit\", \"args\": {\"hotel_name\": new_name}})\n",
    "\n",
    "# 7. Resume the rest of the stream\n",
    "for chunk in agent.stream(resume, config):\n",
    "    print(chunk)"
   ]
  },
  {
   "cell_type": "code",
   "execution_count": null,
   "id": "9c7e3616",
   "metadata": {},
   "outputs": [],
   "source": [
    "# Visualize the graph\n",
    "from IPython.display import Image, display\n",
    "\n",
    "try:\n",
    "    display(Image(graph.get_graph().draw_mermaid_png()))\n",
    "except Exception as e:\n",
    "    print(f\"Error displaying graph: {e}\")"
   ]
  }
 ],
 "metadata": {
  "kernelspec": {
   "display_name": "venv",
   "language": "python",
   "name": "python3"
  },
  "language_info": {
   "codemirror_mode": {
    "name": "ipython",
    "version": 3
   },
   "file_extension": ".py",
   "mimetype": "text/x-python",
   "name": "python",
   "nbconvert_exporter": "python",
   "pygments_lexer": "ipython3",
   "version": "3.12.7"
  }
 },
 "nbformat": 4,
 "nbformat_minor": 5
}
